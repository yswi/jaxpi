{
 "cells": [
  {
   "cell_type": "code",
   "execution_count": 1,
   "metadata": {
    "id": "_5Owu08OVM24"
   },
   "outputs": [],
   "source": [
    "# Install FEniCS\n",
    "try:\n",
    "    import dolfin\n",
    "except ImportError:\n",
    "    !wget \"https://fem-on-colab.github.io/releases/fenics-install.sh\" -O \"/tmp/fenics-install.sh\" && bash \"/tmp/fenics-install.sh\"\n",
    "    import dolfin"
   ]
  },
  {
   "cell_type": "code",
   "source": [
    "!pip install mshr"
   ],
   "metadata": {
    "id": "C770BwdGQej2",
    "colab": {
     "base_uri": "https://localhost:8080/"
    },
    "outputId": "3bda57de-69ef-481d-d6bb-10f97c3653f5"
   },
   "execution_count": 2,
   "outputs": [
    {
     "output_type": "stream",
     "name": "stdout",
     "text": [
      "Looking in indexes: https://pypi.org/simple, https://us-python.pkg.dev/colab-wheels/public/simple/\n",
      "Requirement already satisfied: mshr in /usr/local/lib/python3.10/dist-packages (2019.2.0.dev0)\n",
      "Requirement already satisfied: fenics-dolfin in /usr/local/lib/python3.10/dist-packages (from mshr) (2019.2.0.dev0)\n",
      "Requirement already satisfied: numpy in /usr/local/lib/python3.10/dist-packages (from mshr) (1.22.4)\n",
      "Requirement already satisfied: pybind11 in /usr/local/lib/python3.10/dist-packages (from fenics-dolfin->mshr) (2.11.0.dev1)\n",
      "Requirement already satisfied: petsc4py in /usr/local/lib/python3.10/dist-packages (from fenics-dolfin->mshr) (3.20.0.dev0)\n",
      "Requirement already satisfied: pkgconfig in /usr/local/lib/python3.10/dist-packages (from fenics-dolfin->mshr) (1.5.5)\n",
      "Requirement already satisfied: mpi4py in /usr/local/lib/python3.10/dist-packages (from fenics-dolfin->mshr) (4.0.0.dev0)\n"
     ]
    }
   ]
  },
  {
   "cell_type": "code",
   "source": [
    "from dolfin import *\n",
    "import mshr\n",
    "import matplotlib.pyplot as plt\n",
    "import numpy as np\n",
    "import matplotlib.tri as tri"
   ],
   "metadata": {
    "id": "XFUG3iYK7HpA"
   },
   "execution_count": 3,
   "outputs": []
  },
  {
   "cell_type": "code",
   "execution_count": 4,
   "metadata": {
    "id": "TAkSyy-3VdM0"
   },
   "outputs": [],
   "source": [
    "# Follow https://fenics-handson.readthedocs.io/en/latest/navierstokes/doc.html#stokes-flow-around-cylinder\n",
    "def build_space(N_circle, N_bulk, u_in):\n",
    "    \"\"\"Prepare data for DGF benchmark. Return function\n",
    "    space, list of boundary conditions and surface measure\n",
    "    on the cylinder.\"\"\"\n",
    "\n",
    "    # Define domain\n",
    "    center = Point(0.2, 0.2)\n",
    "    radius = 0.05\n",
    "    L = 2.2\n",
    "    W = 0.41\n",
    "    geometry = mshr.Rectangle(Point(0.0, 0.0), Point(L, W)) \\\n",
    "             - mshr.Circle(center, radius, N_circle)\n",
    "\n",
    "    # Build mesh\n",
    "    mesh = mshr.generate_mesh(geometry, N_bulk)\n",
    "\n",
    "    # Construct facet markers\n",
    "    bndry = MeshFunction(\"size_t\", mesh, mesh.topology().dim()-1)\n",
    "    for f in facets(mesh):\n",
    "        mp = f.midpoint()\n",
    "        if near(mp[0], 0.0):  # inflow\n",
    "            bndry[f] = 1\n",
    "        elif near(mp[0], L):  # outflow\n",
    "            bndry[f] = 2\n",
    "        elif near(mp[1], 0.0) or near(mp[1], W):  # walls\n",
    "            bndry[f] = 3\n",
    "        elif mp.distance(center) <= radius:  # cylinder\n",
    "            bndry[f] = 5\n",
    "\n",
    "    # Build function spaces (Taylor-Hood)\n",
    "    P2 = VectorElement(\"P\", mesh.ufl_cell(), 2)\n",
    "    P1 = FiniteElement(\"P\", mesh.ufl_cell(), 1)\n",
    "    TH = MixedElement([P2, P1])\n",
    "    W = FunctionSpace(mesh, TH)\n",
    "\n",
    "    # Prepare Dirichlet boundary conditions\n",
    "    bc_walls = DirichletBC(W.sub(0), (0, 0), bndry, 3)\n",
    "    bc_cylinder = DirichletBC(W.sub(0), (0, 0), bndry, 5)\n",
    "    bc_in = DirichletBC(W.sub(0), u_in, bndry, 1)\n",
    "    bcs = [bc_cylinder, bc_walls, bc_in]\n",
    "\n",
    "    # Prepare surface measure on cylinder\n",
    "    ds_circle = Measure(\"ds\", subdomain_data=bndry, subdomain_id=5)\n",
    "\n",
    "    return mesh, W, bcs, ds_circle\n",
    "\n",
    "\n",
    "def solve_stokes(W, nu, bcs):\n",
    "    \"\"\"Solve steady Stokes and return the solution\"\"\"\n",
    "\n",
    "    # Define variational forms\n",
    "    u, p = TrialFunctions(W)\n",
    "    v, q = TestFunctions(W)\n",
    "    a = nu*inner(grad(u), grad(v))*dx - p*div(v)*dx - q*div(u)*dx\n",
    "    L = inner(Constant((0, 0)), v)*dx\n",
    "\n",
    "    # Solve the problem\n",
    "    w = Function(W)\n",
    "    solve(a == L, w, bcs)\n",
    "\n",
    "    return w"
   ]
  },
  {
   "cell_type": "code",
   "source": [
    "u_in = Expression((\"4.0*U*x[1]*(0.41 - x[1])/(0.41*0.41)\", \"0.0\"),\n",
    "                    degree=2, U=0.3)\n",
    "nu = Constant(0.001)\n",
    "\n",
    "# Discretization parameters\n",
    "N_circle = 128\n",
    "N_bulk = 256\n",
    "\n",
    "# Prepare function space, BCs and measure on circle\n",
    "mesh, W, bcs, ds_circle = build_space(N_circle, N_bulk, u_in)\n",
    "\n",
    "# Solve Stokes\n",
    "w = solve_stokes(W, nu, bcs)"
   ],
   "metadata": {
    "id": "npkabbb6MNEM"
   },
   "execution_count": 5,
   "outputs": []
  },
  {
   "cell_type": "code",
   "source": [
    "center = Point(0.2, 0.2)\n",
    "radius = 0.05\n",
    "L = 2.2\n",
    "W = 0.41\n",
    "\n",
    "bndry = MeshFunction(\"size_t\", mesh, mesh.topology().dim()-1)\n",
    "for f in facets(mesh):\n",
    "    mp = f.midpoint()\n",
    "    if near(mp[0], 0.0):  # inflow\n",
    "        bndry[f] = 1\n",
    "    elif near(mp[0], L):  # outflow\n",
    "        bndry[f] = 2\n",
    "    elif near(mp[1], 0.0) or near(mp[1], W):  # walls\n",
    "        bndry[f] = 3\n",
    "    elif mp.distance(center) <= radius:  # cylinder\n",
    "        bndry[f] = 5\n",
    "\n",
    "\n",
    "inflow_coords = []\n",
    "outflow_coords = []\n",
    "wall_coords = []\n",
    "cylinder_coords = []\n",
    "\n",
    "for f in facets(mesh):\n",
    "    if bndry[f] == 1:  # inflow\n",
    "        for vertex in vertices(f):\n",
    "            inflow_coords.append(vertex.point().array())\n",
    "    elif bndry[f] == 2:  # outflow\n",
    "        for vertex in vertices(f):\n",
    "            outflow_coords.append(vertex.point().array())\n",
    "    elif bndry[f] == 3:  # walls\n",
    "        for vertex in vertices(f):\n",
    "            wall_coords.append(vertex.point().array())\n",
    "    elif bndry[f] == 5:  # cylinder\n",
    "        for vertex in vertices(f):\n",
    "            cylinder_coords.append(vertex.point().array())\n",
    "\n",
    "inflow_coords = np.array(inflow_coords)[:,:2]\n",
    "outflow_coords = np.array(outflow_coords)[:,:2]\n",
    "wall_coords = np.array(wall_coords)[:,:2]\n",
    "cylinder_coords = np.array(cylinder_coords)[:,:2]\n",
    "\n",
    "coords = mesh.coordinates()\n",
    "x = coords[:, 0]\n",
    "y = coords[:, 1]"
   ],
   "metadata": {
    "id": "MtC9_V-D6fSo"
   },
   "execution_count": 6,
   "outputs": []
  },
  {
   "cell_type": "code",
   "source": [
    "# Plot boundary points\n",
    "plt.plot(inflow_coords[:,0], inflow_coords[:,1], '.')\n",
    "plt.plot(outflow_coords[:,0], outflow_coords[:,1], '.')\n",
    "plt.plot(wall_coords[:,0], wall_coords[:,1], '.')\n",
    "plt.plot(cylinder_coords[:,0], cylinder_coords[:,1], '.')"
   ],
   "metadata": {
    "colab": {
     "base_uri": "https://localhost:8080/",
     "height": 447
    },
    "id": "pOxBpiJV28nb",
    "outputId": "4a142125-e515-40dc-f1cd-015d2a2811a7"
   },
   "execution_count": 7,
   "outputs": [
    {
     "output_type": "execute_result",
     "data": {
      "text/plain": [
       "[<matplotlib.lines.Line2D at 0x7f326c776dd0>]"
      ]
     },
     "metadata": {},
     "execution_count": 7
    },
    {
     "output_type": "display_data",
     "data": {
      "text/plain": [
       "<Figure size 640x480 with 1 Axes>"
      ],
      "image/png": "[encoded data removed]"
     },
     "metadata": {}
    }
   ]
  },
  {
   "cell_type": "code",
   "source": [
    "# Visualization\n",
    "U, p = w.split()\n",
    "u, v = U.split()\n",
    "\n",
    "u_values = np.array([u(x, y) for x, y in coords])\n",
    "v_values = np.array([v(x, y) for x, y in coords])\n",
    "p_values = np.array([p(x, y) for x, y in coords])\n",
    "\n",
    "triang = tri.Triangulation(x, y)\n",
    "\n",
    "x_tri = x[triang.triangles].mean(axis=1)\n",
    "y_tri = y[triang.triangles].mean(axis=1)\n",
    "dist_from_center = np.sqrt((x_tri - center[0])**2 + (y_tri - center[1])**2)\n",
    "triang.set_mask(dist_from_center < radius)"
   ],
   "metadata": {
    "id": "zZTGH1bQPfSq"
   },
   "execution_count": 8,
   "outputs": []
  },
  {
   "cell_type": "code",
   "source": [
    "fig = plt.figure(figsize=(15,2))\n",
    "plt.tricontourf(triang, u_values, cmap='jet', levels=100)\n",
    "plt.colorbar(label='Flow value')"
   ],
   "metadata": {
    "colab": {
     "base_uri": "https://localhost:8080/",
     "height": 233
    },
    "id": "7R3_yb9tOJm-",
    "outputId": "32231c87-3962-4330-a48c-d970583ffbce"
   },
   "execution_count": 9,
   "outputs": [
    {
     "output_type": "execute_result",
     "data": {
      "text/plain": [
       "<matplotlib.colorbar.Colorbar at 0x7f3268cdab00>"
      ]
     },
     "metadata": {},
     "execution_count": 9
    },
    {
     "output_type": "display_data",
     "data": {
      "text/plain": [
       "<Figure size 1500x200 with 2 Axes>"
      ],
      "image/png": "[encoded data removed]"
     },
     "metadata": {}
    }
   ]
  },
  {
   "cell_type": "code",
   "source": [
    "data_dict = {'u':u_values, \n",
    "             'v':v_values, \n",
    "             'p':p_values, \n",
    "             'coords':coords, \n",
    "             'inflow_coords': inflow_coords,\n",
    "             'outflow_coords': outflow_coords,\n",
    "             'wall_coords': wall_coords,\n",
    "             'cylinder_coords': cylinder_coords,\n",
    "             'nu':0.001}\n",
    "np.save('stokes.npy', data_dict)"
   ],
   "metadata": {
    "id": "GFYDX8OOzUMx"
   },
   "execution_count": 10,
   "outputs": []
  },
  {
   "cell_type": "code",
   "source": [],
   "metadata": {
    "id": "mUQy6eQLZby0"
   },
   "execution_count": 10,
   "outputs": []
  }
 ],
 "metadata": {
  "colab": {
   "machine_shape": "hm",
   "provenance": []
  },
  "kernelspec": {
   "display_name": "Python 3",
   "name": "python3"
  },
  "language_info": {
   "name": "python"
  }
 },
 "nbformat": 4,
 "nbformat_minor": 0
}
